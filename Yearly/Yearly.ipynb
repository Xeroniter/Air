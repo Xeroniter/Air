{
  "nbformat": 4,
  "nbformat_minor": 0,
  "metadata": {
    "colab": {
      "provenance": [],
      "authorship_tag": "ABX9TyNjAHgDXML5gWR84Xdq13Fq"
    },
    "kernelspec": {
      "name": "python3",
      "display_name": "Python 3"
    },
    "language_info": {
      "name": "python"
    }
  },
  "cells": [
    {
      "cell_type": "code",
      "execution_count": null,
      "metadata": {
        "id": "CJ8oh3OZdPUJ"
      },
      "outputs": [],
      "source": [
        "import pandas, warnings\n",
        "\n",
        "import matplotlib.pyplot as plt\n",
        "\n",
        "warnings.filterwarnings(\"ignore\")\n",
        "\n",
        "plt.style.use(\"seaborn-whitegrid\")"
      ]
    },
    {
      "cell_type": "code",
      "source": [
        "transurl = \"/content/okajakpril.csv\"\n",
        "\n",
        "tanggal = [\"tap_in_time\", \"tap_out_time\"]\n",
        "\n",
        "origin = pandas.read_table(transurl, parse_dates=tanggal, sep=\",\")\n",
        "\n",
        "origin.iloc[:5, :5]"
      ],
      "metadata": {
        "id": "z8g0MLuOd8tM"
      },
      "execution_count": null,
      "outputs": []
    },
    {
      "cell_type": "code",
      "source": [
        "origin.iloc[:5, 5:11]"
      ],
      "metadata": {
        "id": "LGweBdCmeAWq"
      },
      "execution_count": null,
      "outputs": []
    },
    {
      "cell_type": "code",
      "source": [
        "origin.iloc[:5, 11:16]"
      ],
      "metadata": {
        "id": "0iO29gMReB_1"
      },
      "execution_count": null,
      "outputs": []
    },
    {
      "cell_type": "code",
      "source": [
        "origin.iloc[:5, 16:]"
      ],
      "metadata": {
        "id": "nB_B8tXPeDwG"
      },
      "execution_count": null,
      "outputs": []
    },
    {
      "cell_type": "code",
      "source": [
        "origin.isnull().sum().sum()"
      ],
      "metadata": {
        "id": "TL574amEeIL2"
      },
      "execution_count": null,
      "outputs": []
    },
    {
      "cell_type": "code",
      "source": [
        "origin.duplicated().sum()"
      ],
      "metadata": {
        "id": "JaweIDS8eK5L"
      },
      "execution_count": null,
      "outputs": []
    },
    {
      "cell_type": "code",
      "source": [
        "def barplot(result, **barlimit):\n",
        "  if \"ylabel\" not in barlimit.keys():\n",
        "    barlimit[\"ylabel\"] = \"Total Trip\"\n",
        "  bar = result.plot.bar(rot=0, **barlimit)\n",
        "  bar.bar_label(bar.containers[0], fmt=\"%1.1f\");\n",
        "\n",
        "colors = [\"#BC9F8B\", \"#B5CFB7\", \"#C5705D\", \"#ACE1AF\", \"#B3C8CF\"]"
      ],
      "metadata": {
        "id": "28WAd2WkeUoL"
      },
      "execution_count": null,
      "outputs": []
    }
  ]
}